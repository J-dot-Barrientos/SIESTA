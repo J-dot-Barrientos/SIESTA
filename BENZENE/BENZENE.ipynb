{
 "cells": [
  {
   "cell_type": "code",
   "execution_count": 1,
   "id": "d19835ab-cea6-4ae7-9dbb-20a4f05f6dfb",
   "metadata": {},
   "outputs": [],
   "source": [
    "import sisl as si"
   ]
  },
  {
   "cell_type": "code",
   "execution_count": 2,
   "id": "08b13a0c-92e3-443b-b661-0a51771b9427",
   "metadata": {},
   "outputs": [],
   "source": [
    "molecule = si.Geometry.read(\"benzene.fdf\")"
   ]
  },
  {
   "cell_type": "code",
   "execution_count": 3,
   "id": "10c2ecb6-c72f-4a3f-b477-a876d27e2b2b",
   "metadata": {},
   "outputs": [
    {
     "name": "stdout",
     "output_type": "stream",
     "text": [
      "Geometry{na: 12, no: 12,\n",
      " Atoms{species: 2,\n",
      "  Atom{C, Z: 6, mass(au): 12.01070, maxR: -1.00000,\n",
      "   Orbital{R: -1.00000, q0: 0.0}\n",
      "  }: 6,\n",
      "  Atom{H, Z: 1, mass(au): 1.00794, maxR: -1.00000,\n",
      "   Orbital{R: -1.00000, q0: 0.0}\n",
      "  }: 6,\n",
      " },\n",
      " maxR: -1.00000,\n",
      " Lattice{nsc: [1 1 1],\n",
      "  origin=[0.0000, 0.0000, 0.0000],\n",
      "  A=[14.3240, 0.0000, 0.0000],\n",
      "  B=[0.0000, 14.9940, 0.0000],\n",
      "  C=[0.0000, 0.0000, 10.0000],\n",
      "  bc=[Periodic,\n",
      "      Periodic,\n",
      "      Periodic]\n",
      " }\n",
      "}\n"
     ]
    }
   ],
   "source": [
    "print(molecule)"
   ]
  },
  {
   "cell_type": "code",
   "execution_count": 4,
   "id": "d04b7f15-7135-4748-b1ba-7be937bc9a12",
   "metadata": {},
   "outputs": [
    {
     "ename": "ModuleNotFoundError",
     "evalue": "sisl.viz requires additional packages.\nInstall them with pip:\n   pip install sisl[viz]\nOr conda (only possible if inside a conda environment):\n   conda install nodify plotly netCDF4 scikit-image pathos\n",
     "output_type": "error",
     "traceback": [
      "\u001b[0;31m---------------------------------------------------------------------------\u001b[0m",
      "\u001b[0;31mModuleNotFoundError\u001b[0m                       Traceback (most recent call last)",
      "File \u001b[0;32m/opt/anaconda3/envs/nanociencia/lib/python3.12/site-packages/sisl/viz/__init__.py:13\u001b[0m\n\u001b[1;32m     12\u001b[0m \u001b[38;5;28;01mtry\u001b[39;00m:\n\u001b[0;32m---> 13\u001b[0m     \u001b[38;5;28;01mimport\u001b[39;00m \u001b[38;5;21;01mnodify\u001b[39;00m \u001b[38;5;28;01mas\u001b[39;00m \u001b[38;5;21;01m_\u001b[39;00m  \u001b[38;5;66;03m# noqa: F401\u001b[39;00m\n\u001b[1;32m     14\u001b[0m \u001b[38;5;28;01mexcept\u001b[39;00m \u001b[38;5;167;01mModuleNotFoundError\u001b[39;00m \u001b[38;5;28;01mas\u001b[39;00m e:\n",
      "\u001b[0;31mModuleNotFoundError\u001b[0m: No module named 'nodify'",
      "\nThe above exception was the direct cause of the following exception:\n",
      "\u001b[0;31mModuleNotFoundError\u001b[0m                       Traceback (most recent call last)",
      "Cell \u001b[0;32mIn[4], line 1\u001b[0m\n\u001b[0;32m----> 1\u001b[0m molecule\u001b[38;5;241m.\u001b[39mplot()\n",
      "File \u001b[0;32m/opt/anaconda3/envs/nanociencia/lib/python3.12/site-packages/sisl/_lazy_viz.py:33\u001b[0m, in \u001b[0;36mPlotHandlerPlaceholder.__get__\u001b[0;34m(self, instance, owner)\u001b[0m\n\u001b[1;32m     30\u001b[0m \u001b[38;5;28;01mdef\u001b[39;00m \u001b[38;5;21m__get__\u001b[39m(\u001b[38;5;28mself\u001b[39m, instance, owner):\n\u001b[1;32m     31\u001b[0m     \u001b[38;5;66;03m# Import sisl.viz, which will remove all the placeholders and\u001b[39;00m\n\u001b[1;32m     32\u001b[0m     \u001b[38;5;66;03m# set the actual plot handlers as the \"plot\" attribute.\u001b[39;00m\n\u001b[0;32m---> 33\u001b[0m     \u001b[38;5;28;01mimport\u001b[39;00m \u001b[38;5;21;01msisl\u001b[39;00m\u001b[38;5;21;01m.\u001b[39;00m\u001b[38;5;21;01mviz\u001b[39;00m  \u001b[38;5;66;03m# noqa: F401\u001b[39;00m\n\u001b[1;32m     35\u001b[0m     \u001b[38;5;66;03m# Return the plot handler\u001b[39;00m\n\u001b[1;32m     36\u001b[0m     \u001b[38;5;28;01mif\u001b[39;00m instance \u001b[38;5;129;01mis\u001b[39;00m \u001b[38;5;28;01mNone\u001b[39;00m:\n",
      "File \u001b[0;32m/opt/anaconda3/envs/nanociencia/lib/python3.12/site-packages/sisl/viz/__init__.py:15\u001b[0m\n\u001b[1;32m     13\u001b[0m     \u001b[38;5;28;01mimport\u001b[39;00m \u001b[38;5;21;01mnodify\u001b[39;00m \u001b[38;5;28;01mas\u001b[39;00m \u001b[38;5;21;01m_\u001b[39;00m  \u001b[38;5;66;03m# noqa: F401\u001b[39;00m\n\u001b[1;32m     14\u001b[0m \u001b[38;5;28;01mexcept\u001b[39;00m \u001b[38;5;167;01mModuleNotFoundError\u001b[39;00m \u001b[38;5;28;01mas\u001b[39;00m e:\n\u001b[0;32m---> 15\u001b[0m     \u001b[38;5;28;01mraise\u001b[39;00m \u001b[38;5;167;01mModuleNotFoundError\u001b[39;00m(\n\u001b[1;32m     16\u001b[0m \u001b[38;5;250m        \u001b[39m\u001b[38;5;124;03m\"\"\"\\\u001b[39;00m\n\u001b[1;32m     17\u001b[0m \u001b[38;5;124;03msisl.viz requires additional packages.\u001b[39;00m\n\u001b[1;32m     18\u001b[0m \u001b[38;5;124;03mInstall them with pip:\u001b[39;00m\n\u001b[1;32m     19\u001b[0m \u001b[38;5;124;03m   pip install sisl[viz]\u001b[39;00m\n\u001b[1;32m     20\u001b[0m \u001b[38;5;124;03mOr conda (only possible if inside a conda environment):\u001b[39;00m\n\u001b[1;32m     21\u001b[0m \u001b[38;5;124;03m   conda install nodify plotly netCDF4 scikit-image pathos\u001b[39;00m\n\u001b[1;32m     22\u001b[0m \u001b[38;5;124;03m\"\"\"\u001b[39;00m\n\u001b[1;32m     23\u001b[0m     ) \u001b[38;5;28;01mfrom\u001b[39;00m \u001b[38;5;21;01me\u001b[39;00m\n\u001b[1;32m     25\u001b[0m \u001b[38;5;66;03m# Placeholders for 'plot' attributes are set in the classes while\u001b[39;00m\n\u001b[1;32m     26\u001b[0m \u001b[38;5;66;03m# sisl.viz is not loaded. Now we are loading it, so just remove those\u001b[39;00m\n\u001b[1;32m     27\u001b[0m \u001b[38;5;66;03m# placeholders.\u001b[39;00m\n\u001b[1;32m     28\u001b[0m \u001b[38;5;28;01mfrom\u001b[39;00m \u001b[38;5;21;01msisl\u001b[39;00m\u001b[38;5;21;01m.\u001b[39;00m\u001b[38;5;21;01m_lazy_viz\u001b[39;00m \u001b[38;5;28;01mimport\u001b[39;00m clear_viz_placeholders\n",
      "\u001b[0;31mModuleNotFoundError\u001b[0m: sisl.viz requires additional packages.\nInstall them with pip:\n   pip install sisl[viz]\nOr conda (only possible if inside a conda environment):\n   conda install nodify plotly netCDF4 scikit-image pathos\n"
     ]
    }
   ],
   "source": [
    "molecule.plot()"
   ]
  },
  {
   "cell_type": "code",
   "execution_count": null,
   "id": "aee4bafd-5696-43c4-ad09-73769ea8a0f9",
   "metadata": {},
   "outputs": [],
   "source": []
  }
 ],
 "metadata": {
  "kernelspec": {
   "display_name": "Python 3 (ipykernel)",
   "language": "python",
   "name": "python3"
  },
  "language_info": {
   "codemirror_mode": {
    "name": "ipython",
    "version": 3
   },
   "file_extension": ".py",
   "mimetype": "text/x-python",
   "name": "python",
   "nbconvert_exporter": "python",
   "pygments_lexer": "ipython3",
   "version": "3.12.8"
  }
 },
 "nbformat": 4,
 "nbformat_minor": 5
}
